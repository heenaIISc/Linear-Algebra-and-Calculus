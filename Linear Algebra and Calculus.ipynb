{
 "cells": [
  {
   "cell_type": "markdown",
   "id": "44e7e1bd",
   "metadata": {},
   "source": [
    "# PROBLEM STATMENT\n",
    "\n",
    "The task is to advise a petroleum company on how to meet the demands of their customers for motor oil, diesel oil and gasoline."
   ]
  },
  {
   "cell_type": "markdown",
   "id": "daadfa8d",
   "metadata": {},
   "source": [
    "## DATA\n",
    "\n",
    "From a barrel of crude oil, in one day, factory  A  can produce\n",
    "\n",
    "20 gallons of motor oil,\n",
    "10 gallons of diesel oil, and\n",
    "5 gallons of gasoline\n",
    "Similarly, factory  B  can produce\n",
    "\n",
    "4 gallons of motor oil,\n",
    "14 gallons of diesel oil, and\n",
    "5 gallons of gasoline\n",
    "while factory  C  can produce\n",
    "\n",
    "4 gallons of motor oil,\n",
    "5 gallons of diesel oil, and\n",
    "12 gallons of gasoline\n",
    "There is also waste in the form of paraffin, among other things. Factory  A  has 3 gallons of paraffin to dispose of per barrel of crude, factory  B  5 gallons, and factory  C  2 gallons."
   ]
  },
  {
   "cell_type": "markdown",
   "id": "c975a744",
   "metadata": {},
   "source": [
    "# Creating an array"
   ]
  },
  {
   "cell_type": "code",
   "execution_count": 1,
   "id": "7fdf42a0",
   "metadata": {},
   "outputs": [
    {
     "data": {
      "text/plain": [
       "array([[1, 2, 3],\n",
       "       [4, 5, 6]])"
      ]
     },
     "execution_count": 1,
     "metadata": {},
     "output_type": "execute_result"
    }
   ],
   "source": [
    "import numpy as np #Create an array of size 2x3 with arbitrary values.\n",
    "a = np.array([[1, 2, 3], \n",
    "              [4, 5, 6]])\n",
    "a"
   ]
  },
  {
   "cell_type": "markdown",
   "id": "cda8f536",
   "metadata": {},
   "source": [
    "# Create the system of Linear Equation\n",
    "\n",
    "Suppose the current daily demand from distributors is 6600 gallons of motor oil, 5100 gallons of diesel oil and 3100 of gasoline.\n",
    "\n",
    "Setting up the system of equations which describes the above situation. \n",
    "\n",
    "Let the number of barrels used by factory $A$, $B$ and $C$ are $x$, $y$ and $z$ respectively.\n",
    "\n",
    "Then the system of linear equations will be\n",
    "\n",
    "$$Motor\\ oil:\\ \\ \\ 20x + 4y + 4z = 6600$$\n",
    "\n",
    "$$Diesel\\ oil:\\ \\ \\ 10x + 14y + 5z = 5100$$\n",
    "\n",
    "$$Gasoline:\\ \\ \\ 5x + 5y + 12z = 3100$$"
   ]
  },
  {
   "cell_type": "markdown",
   "id": "a5b35c74",
   "metadata": {},
   "source": [
    "# Solving the system of Linear Equation\n",
    "\n",
    "How many barrels of crude oil each plant should get in order to meet the demand as a group. we can only provide each plant with an integral number of barrels."
   ]
  },
  {
   "cell_type": "code",
   "execution_count": 2,
   "id": "7220e2a6",
   "metadata": {},
   "outputs": [
    {
     "data": {
      "text/plain": [
       "array([287.25, 128.75,  85.  ])"
      ]
     },
     "execution_count": 2,
     "metadata": {},
     "output_type": "execute_result"
    }
   ],
   "source": [
    "from scipy.linalg import solve\n",
    "A = np.array([[20, 4, 4], \n",
    "              [10, 14, 5], \n",
    "              [5, 5, 12]])\n",
    "b = np.array([6600, 5100, 3100])\n",
    "X1 = solve(A,b)\n",
    "X1"
   ]
  },
  {
   "cell_type": "markdown",
   "id": "86010e25",
   "metadata": {},
   "source": [
    "Therefore, the number of barrels required by factory  A ,  B  and  C  are 288, 129 and 85 respectively."
   ]
  },
  {
   "cell_type": "markdown",
   "id": "529df35e",
   "metadata": {},
   "source": [
    "Suppose the total demand for all products doubled. What would the solution now be? How does it compare to the original solution? Why, mathematically, should this have been expected?"
   ]
  },
  {
   "cell_type": "code",
   "execution_count": 3,
   "id": "f60c327d",
   "metadata": {},
   "outputs": [
    {
     "data": {
      "text/plain": [
       "array([574.5, 257.5, 170. ])"
      ]
     },
     "execution_count": 3,
     "metadata": {},
     "output_type": "execute_result"
    }
   ],
   "source": [
    "A = np.array([[20, 4, 4], \n",
    "              [10, 14, 5], \n",
    "              [5, 5, 12]])\n",
    "b = np.array([6600 * 2, 5100 * 2, 3100 * 2])\n",
    "X2 = solve(A,b)\n",
    "X2"
   ]
  },
  {
   "cell_type": "markdown",
   "id": "d1f7aff8",
   "metadata": {},
   "source": [
    "From above it can be seen that as the demand doubled the number of barrels required also gets doubled."
   ]
  },
  {
   "cell_type": "markdown",
   "id": "6721d8e2",
   "metadata": {},
   "source": [
    "Suppose that the company acquires another group of distributors and that the daily demand of this group is 2000 gallons of motor oil, 4000 gallons of gasoline, and 4000 gallons of diesel oil. How to set up production of just this supply? Are there any options (more than one way)?"
   ]
  },
  {
   "cell_type": "code",
   "execution_count": 4,
   "id": "48c6db65",
   "metadata": {},
   "outputs": [
    {
     "data": {
      "text/plain": [
       "array([ 12.5, 187.5, 250. ])"
      ]
     },
     "execution_count": 4,
     "metadata": {},
     "output_type": "execute_result"
    }
   ],
   "source": [
    "A = np.array([[20, 4, 4], \n",
    "              [10, 14, 5], \n",
    "              [5, 5, 12]])\n",
    "b = np.array([2000, 4000, 4000])\n",
    "X3 = solve(A,b)\n",
    "X3"
   ]
  },
  {
   "cell_type": "markdown",
   "id": "9dc386cf",
   "metadata": {},
   "source": [
    "From above it can be seen that for the demand (2000, 4000, 4000), the barrel requirement for factories $A$, $B$ and $C$ are 13, 188 and 250 respectively. As it is a *unique* solution, this is the only way to fulfill the demand."
   ]
  },
  {
   "cell_type": "markdown",
   "id": "a5b52367",
   "metadata": {},
   "source": [
    "Next, calculate the needs of each factory (in barrels of crude, as usual) to meet the total demand of both groups of distributors. When you have done this, compare your answer to results already obtained. What mathematical conclusion is drawn?"
   ]
  },
  {
   "cell_type": "code",
   "execution_count": 5,
   "id": "6e1853b7",
   "metadata": {},
   "outputs": [
    {
     "data": {
      "text/plain": [
       "array([299.75, 316.25, 335.  ])"
      ]
     },
     "execution_count": 5,
     "metadata": {},
     "output_type": "execute_result"
    }
   ],
   "source": [
    "A = np.array([[20, 4, 4], \n",
    "              [10, 14, 5], \n",
    "              [5, 5, 12]])\n",
    "b = np.array([6600 + 2000, 5100 + 4000, 3100 + 4000])\n",
    "X4 = solve(A,b)\n",
    "X4"
   ]
  },
  {
   "cell_type": "code",
   "execution_count": 6,
   "id": "ffc901a5",
   "metadata": {},
   "outputs": [
    {
     "data": {
      "text/plain": [
       "array([ True,  True,  True])"
      ]
     },
     "execution_count": 6,
     "metadata": {},
     "output_type": "execute_result"
    }
   ],
   "source": [
    "X1 + X3 == X4"
   ]
  },
  {
   "cell_type": "markdown",
   "id": "3b9af0c0",
   "metadata": {},
   "source": [
    "From above we can conclude that the number of barrels required by the plants to meet the total demand (6600 + 2000, 5100 + 4000, 3100 + 4000) is equal to the sum of number of barrels required by the plants to meet the demands individually."
   ]
  },
  {
   "cell_type": "markdown",
   "id": "6b93659d",
   "metadata": {},
   "source": [
    "# Sensitivity and Robustness"
   ]
  },
  {
   "cell_type": "markdown",
   "id": "c6087303",
   "metadata": {},
   "source": [
    "In real life applications, constants are rarely ever exactly equal to their stated value; certain amounts of uncertainty are always present. This is part of the reason for the science of statistics. In the above model, the daily productions for the plants would be averages over a period of time. Explore what effect small changes in the parameters have on the output.\n",
    "\n",
    "To do this, pick any 3 coefficients, one at a time, and increase or decrease them by 3%. For each case , note what effect this has on the solution, as a percentage change. Can draw any overall conclusion?"
   ]
  },
  {
   "cell_type": "code",
   "execution_count": 7,
   "id": "f49ed849",
   "metadata": {},
   "outputs": [
    {
     "data": {
      "text/plain": [
       "array([278.88349515, 128.75      ,  85.        ])"
      ]
     },
     "execution_count": 7,
     "metadata": {},
     "output_type": "execute_result"
    }
   ],
   "source": [
    "# Increasing the coefficient value for factory A by 3%\n",
    "A = np.array([[20 * 1.03, 4, 4], \n",
    "              [10 * 1.03, 14, 5], \n",
    "              [5 * 1.03, 5, 12]])\n",
    "\n",
    "b = np.array([6600, 5100, 3100])\n",
    "X5 = solve(A,b)\n",
    "X5"
   ]
  },
  {
   "cell_type": "code",
   "execution_count": 8,
   "id": "b7a7aba4",
   "metadata": {},
   "outputs": [
    {
     "data": {
      "text/plain": [
       "array([-0.02912621,  0.        ,  0.        ])"
      ]
     },
     "execution_count": 8,
     "metadata": {},
     "output_type": "execute_result"
    }
   ],
   "source": [
    "# Percentage change in solution\n",
    "(X5 - X1) / X1"
   ]
  },
  {
   "cell_type": "markdown",
   "id": "c30319c6",
   "metadata": {},
   "source": [
    "From above it can be seen that after increasing the coefficients of factory  A  by 3%, barrel requirement for factory  A  has decreased by around 3% while for factory  B  and  C  it is constant.\n",
    "\n",
    "Now, lets decrease the coefficient by 3%."
   ]
  },
  {
   "cell_type": "code",
   "execution_count": 9,
   "id": "cb02b31a",
   "metadata": {},
   "outputs": [
    {
     "data": {
      "text/plain": [
       "array([296.13402062, 128.75      ,  85.        ])"
      ]
     },
     "execution_count": 9,
     "metadata": {},
     "output_type": "execute_result"
    }
   ],
   "source": [
    "# Decreasing the coefficient value for factory A by 3%\n",
    "A = np.array([[20 * 0.97, 4, 4], \n",
    "              [10 * 0.97, 14, 5], \n",
    "              [5 * 0.97, 5, 12]])\n",
    "\n",
    "b = np.array([6600, 5100, 3100])\n",
    "X6 = solve(A,b)\n",
    "X6"
   ]
  },
  {
   "cell_type": "code",
   "execution_count": 10,
   "id": "f7bf4dc3",
   "metadata": {},
   "outputs": [
    {
     "data": {
      "text/plain": [
       "array([0.03092784, 0.        , 0.        ])"
      ]
     },
     "execution_count": 10,
     "metadata": {},
     "output_type": "execute_result"
    }
   ],
   "source": [
    "# Percentage change in solution\n",
    "(X6 - X1) / X1"
   ]
  },
  {
   "cell_type": "markdown",
   "id": "baa10427",
   "metadata": {},
   "source": [
    "After decreasing the coefficient by 3% the barrel requirement for factory $A$ has increased by around 3% while for factory $B$ and $C$ it still remains constant.\n",
    "\n",
    "Similarly, for factory $B$ we can do the same."
   ]
  },
  {
   "cell_type": "code",
   "execution_count": 11,
   "id": "c5f9e6f2",
   "metadata": {},
   "outputs": [
    {
     "data": {
      "text/plain": [
       "array([287.25, 125.  ,  85.  ])"
      ]
     },
     "execution_count": 11,
     "metadata": {},
     "output_type": "execute_result"
    }
   ],
   "source": [
    "# Increasing the coefficient value for factory B by 3%\n",
    "A = np.array([[20, 4 * 1.03, 4], \n",
    "              [10, 14 * 1.03, 5], \n",
    "              [5, 5 * 1.03, 12]])\n",
    "\n",
    "b = np.array([6600, 5100, 3100])\n",
    "X7 = solve(A,b)\n",
    "X7"
   ]
  },
  {
   "cell_type": "code",
   "execution_count": 12,
   "id": "3337d8a8",
   "metadata": {},
   "outputs": [
    {
     "data": {
      "text/plain": [
       "array([ 0.00000000e+00, -2.91262136e-02, -1.67186526e-16])"
      ]
     },
     "execution_count": 12,
     "metadata": {},
     "output_type": "execute_result"
    }
   ],
   "source": [
    "# Percentage change in solution\n",
    "(X7 - X1) / X1"
   ]
  },
  {
   "cell_type": "code",
   "execution_count": 13,
   "id": "cbcf95ff",
   "metadata": {},
   "outputs": [
    {
     "data": {
      "text/plain": [
       "array([287.25      , 132.73195876,  85.        ])"
      ]
     },
     "execution_count": 13,
     "metadata": {},
     "output_type": "execute_result"
    }
   ],
   "source": [
    "# Decreasing the coefficient value for factory B by 3%\n",
    "A = np.array([[20, 4 * 0.97, 4], [10, 14 * 0.97, 5], [5, 5 * 0.97, 12]])\n",
    "b = np.array([6600, 5100, 3100])\n",
    "X8 = solve(A,b)\n",
    "X8"
   ]
  },
  {
   "cell_type": "code",
   "execution_count": 14,
   "id": "2ebcb95b",
   "metadata": {},
   "outputs": [
    {
     "data": {
      "text/plain": [
       "array([0.        , 0.03092784, 0.        ])"
      ]
     },
     "execution_count": 14,
     "metadata": {},
     "output_type": "execute_result"
    }
   ],
   "source": [
    "# Percentage change in solution\n",
    "(X8 - X1) / X1"
   ]
  },
  {
   "cell_type": "markdown",
   "id": "a088ccac",
   "metadata": {},
   "source": [
    "The results are similar for factory $B$ as well.\n",
    "\n",
    "So, we conclude that if we increase the value of coefficient by n% then its output is decreased by approximately n% and vice-versa."
   ]
  },
  {
   "cell_type": "markdown",
   "id": "6a7555eb",
   "metadata": {},
   "source": [
    "# A Plant Off-Line"
   ]
  },
  {
   "cell_type": "markdown",
   "id": "d2b83df3",
   "metadata": {},
   "source": [
    "Suppose factory  C  is shut down by the EPA (Environmental Protection Agency) temporarily for excessive emissions into the atmosphere. If your demand is as it was originally (6600,5100,3100), what would you now say about the companies ability to meet it? What do you recommend they schedule for production now?"
   ]
  },
  {
   "cell_type": "markdown",
   "id": "3aed1ac6",
   "metadata": {},
   "source": [
    "Let the number of barrels used by factory $A$ and $B$ are $x$ and $y$ respectively.\n",
    "\n",
    "Then the system of linear equations will be\n",
    "\n",
    "$$20x + 4y = 6600$$\n",
    "\n",
    "$$10x + 14y = 5100$$\n",
    "\n",
    "$$5x + 5y = 3100$$\n",
    "\n",
    "The above system has 3 equations and 2 unknowns (x and y), which is *overdetermined* because number of linearly independent equations in the system are more than the unknowns."
   ]
  },
  {
   "cell_type": "code",
   "execution_count": 15,
   "id": "c5921447",
   "metadata": {},
   "outputs": [
    {
     "data": {
      "text/plain": [
       "array([300., 150.])"
      ]
     },
     "execution_count": 15,
     "metadata": {},
     "output_type": "execute_result"
    }
   ],
   "source": [
    "# For the first and second equations \n",
    "A = np.array([[20, 4], [10, 14]])\n",
    "b = np.array([6600, 5100])\n",
    "X9 = solve(A,b)\n",
    "X9"
   ]
  },
  {
   "cell_type": "code",
   "execution_count": 16,
   "id": "4879e6f6",
   "metadata": {},
   "outputs": [
    {
     "data": {
      "text/plain": [
       "array([257.5, 362.5])"
      ]
     },
     "execution_count": 16,
     "metadata": {},
     "output_type": "execute_result"
    }
   ],
   "source": [
    "# For the first and third equations \n",
    "A = np.array([[20, 4], [5, 5]])\n",
    "b = np.array([6600, 3100])\n",
    "X10 = solve(A,b)\n",
    "X10"
   ]
  },
  {
   "cell_type": "code",
   "execution_count": 17,
   "id": "2ce462b9",
   "metadata": {},
   "outputs": [
    {
     "data": {
      "text/plain": [
       "array([ 895., -275.])"
      ]
     },
     "execution_count": 17,
     "metadata": {},
     "output_type": "execute_result"
    }
   ],
   "source": [
    "# For the second and third equations \n",
    "A = np.array([[10, 14], [5, 5]])\n",
    "b = np.array([5100, 3100])\n",
    "X11 = solve(A,b)\n",
    "X11"
   ]
  },
  {
   "cell_type": "markdown",
   "id": "6854c31a",
   "metadata": {},
   "source": [
    "There is one solution for each pair of linear equations: for the first and second equations (300, 150), for the first and third (258, 363), and for the second and third (895, -275). We can discard the third one as number of barrels can't be negative. However, there is no exact solution that satisfies all three simultaneously."
   ]
  },
  {
   "cell_type": "markdown",
   "id": "448ec5fc",
   "metadata": {},
   "source": [
    "# Buying another plant"
   ]
  },
  {
   "cell_type": "markdown",
   "id": "68fa9fb9",
   "metadata": {},
   "source": [
    "This situation has caused enough concern that the CEO is considering buying another plant, identical to the third, and use it permanently. Assuming that all 4 plants are on line, what production do you recommend to meet the current demand (5000, 8500, 10000)? In general, what can you say about any increased flexibility that the 4th plant might provide?\n",
    "\n"
   ]
  },
  {
   "cell_type": "markdown",
   "id": "1981386c",
   "metadata": {},
   "source": [
    "Let the number of barrels used by factory $A$, $B$, $C$ and $D$ are $x$, $y$, $z$ and $w$ respectively.\n",
    "\n",
    "Then the system of linear equations will be\n",
    "\n",
    "$$20x + 4y + 4z + 4w = 5000$$\n",
    "\n",
    "$$10x + 14y + 5z + 5w = 8500$$\n",
    "\n",
    "$$5x + 5y + 12z + 12w = 10000$$\n",
    "\n",
    "The above system of linear equation has fewer equations than variables, hence it is *underdetermined* and cannot have a unique solution. In this case, there are either infinitely many solutions or no exact solution. We can solve it by keeping $w$ as constant and using rref form to solve the system of linear equation."
   ]
  },
  {
   "cell_type": "code",
   "execution_count": 18,
   "id": "ea58c447",
   "metadata": {},
   "outputs": [
    {
     "data": {
      "text/plain": [
       "(Matrix([\n",
       " [1, 0, 0,   195/4],\n",
       " [0, 1, 0,  1325/4],\n",
       " [0, 0, 1, 675 - w]]),\n",
       " (0, 1, 2))"
      ]
     },
     "execution_count": 18,
     "metadata": {},
     "output_type": "execute_result"
    }
   ],
   "source": [
    "import sympy as sy\n",
    "\n",
    "# create symbol 'w'\n",
    "w = sy.Symbol(\"w\")            \n",
    "A_aug = sy.Matrix([[20, 4, 4, 5000-4*w], \n",
    "                   [10, 14, 5, 8500-5*w], \n",
    "                   [5, 5, 12, 10000-12*w]])\n",
    "# show rref form\n",
    "A_aug.rref()      "
   ]
  },
  {
   "cell_type": "markdown",
   "id": "2f16d7c4",
   "metadata": {},
   "source": [
    "From the above result, it can be seen that 4th plant will share the number of barrels required by the 3rd plant only, while the requirement of 1st and 2nd plant will remain unaffected.\n",
    "\n"
   ]
  },
  {
   "cell_type": "markdown",
   "id": "75e847b3",
   "metadata": {},
   "source": [
    "# Calculate the amount of Paraffin supplied "
   ]
  },
  {
   "cell_type": "markdown",
   "id": "f81fe23e",
   "metadata": {},
   "source": [
    "The company has just found a candle company that will buy its paraffin. Under the current conditions (i.e, after buying another plant) for demand (5000, 8500, 10000), how much can be supplied to them per day?"
   ]
  },
  {
   "cell_type": "markdown",
   "id": "a7acbaa8",
   "metadata": {},
   "source": [
    "According to the problem statement, factory  A  has 3 gallons of paraffin to dispose of per barrel of crude oil, factory  B  5 gallons, and factory  C  2 gallons."
   ]
  },
  {
   "cell_type": "code",
   "execution_count": 19,
   "id": "5771ede0",
   "metadata": {},
   "outputs": [
    {
     "data": {
      "text/plain": [
       "(Matrix([\n",
       " [1, 0, 0,   195/4],\n",
       " [0, 1, 0,  1325/4],\n",
       " [0, 0, 1, 675 - w]]),\n",
       " (0, 1, 2))"
      ]
     },
     "execution_count": 19,
     "metadata": {},
     "output_type": "execute_result"
    }
   ],
   "source": [
    "import sympy as sy\n",
    "\n",
    "# create symbol 'w'\n",
    "w = sy.Symbol(\"w\")          \n",
    "A_aug = sy.Matrix([[20, 4, 4, 5000-4*w], \n",
    "                   [10, 14, 5, 8500-5*w], \n",
    "                   [5, 5, 12, 10000-12*w]])\n",
    "# show rref form\n",
    "A_aug.rref()      "
   ]
  },
  {
   "cell_type": "code",
   "execution_count": 20,
   "id": "c8f2b0f9",
   "metadata": {},
   "outputs": [
    {
     "data": {
      "text/plain": [
       "3157.0"
      ]
     },
     "execution_count": 20,
     "metadata": {},
     "output_type": "execute_result"
    }
   ],
   "source": [
    "paraffin_from_A = np.ceil(195/4) * 3\n",
    "paraffin_from_B = np.ceil(1325/4) * 5\n",
    "paraffin_from_C_and_D = 675 * 2\n",
    "paraffin_supplied_per_day = paraffin_from_A + paraffin_from_B + paraffin_from_C_and_D\n",
    "paraffin_supplied_per_day"
   ]
  },
  {
   "cell_type": "markdown",
   "id": "35bd7ddc",
   "metadata": {},
   "source": [
    "# Selling the first plant"
   ]
  },
  {
   "cell_type": "markdown",
   "id": "2cdcd7c2",
   "metadata": {},
   "source": [
    "The management is also considering selling the first plant due to aging equipment and high workman's compensation costs for the state it is located in. They would like to know what this would do to their production capability. Specifically, they would like an example of a demand they could not meet with only plants 2 and 3, and also what effect having plant 4 has (recall it is identical to plant 3). They would also like an example of a demand that they could meet with just plants 2 and 3. Any general statements you could make here would be helpful."
   ]
  },
  {
   "cell_type": "markdown",
   "id": "3eba291b",
   "metadata": {},
   "source": [
    "Let the number of barrels used by factory $B$, $C$ and $D$ are $y$, $z$ and $w$ respectively.\n",
    "\n",
    "When considering only plants 2 and 3, and demand (5000, 8500, 10000) then we have\n",
    "\n",
    "$$4y + 4z = 5000$$\n",
    "\n",
    "$$14y + 5z = 8500$$\n",
    "\n",
    "$$5y + 12z = 10000$$\n",
    "\n",
    "The system becomes *overdetermined*."
   ]
  },
  {
   "cell_type": "code",
   "execution_count": 21,
   "id": "ed4eab07",
   "metadata": {},
   "outputs": [
    {
     "data": {
      "text/plain": [
       "array([ 250., 1000.])"
      ]
     },
     "execution_count": 21,
     "metadata": {},
     "output_type": "execute_result"
    }
   ],
   "source": [
    "# For the first and second equations \n",
    "A = np.array([[4, 4], [14, 5]])\n",
    "b = np.array([5000, 8500])\n",
    "X12 = solve(A,b)\n",
    "X12"
   ]
  },
  {
   "cell_type": "code",
   "execution_count": 22,
   "id": "9994b1e1",
   "metadata": {},
   "outputs": [
    {
     "data": {
      "text/plain": [
       "array([714.28571429, 535.71428571])"
      ]
     },
     "execution_count": 22,
     "metadata": {},
     "output_type": "execute_result"
    }
   ],
   "source": [
    "# For the first and third equations \n",
    "A = np.array([[4, 4], [5, 12]])\n",
    "b = np.array([5000, 10000])\n",
    "X13 = solve(A,b)\n",
    "X13"
   ]
  },
  {
   "cell_type": "code",
   "execution_count": 23,
   "id": "3d52f308",
   "metadata": {},
   "outputs": [
    {
     "data": {
      "text/plain": [
       "array([363.63636364, 681.81818182])"
      ]
     },
     "execution_count": 23,
     "metadata": {},
     "output_type": "execute_result"
    }
   ],
   "source": [
    "# For the second and third equations \n",
    "A = np.array([[14, 5], [5, 12]])\n",
    "b = np.array([8500, 10000])\n",
    "X14 = solve(A,b)\n",
    "X14"
   ]
  },
  {
   "cell_type": "markdown",
   "id": "8b01bf78",
   "metadata": {},
   "source": [
    "There is one solution for each pair of linear equations: for the first and second equations (250, 1000), for the first and third (715, 536), and for the second and third (364, 682). However, there is no exact solution that satisfies all three simultaneously."
   ]
  },
  {
   "cell_type": "markdown",
   "id": "c8d1b7bf",
   "metadata": {},
   "source": [
    "Taking 4th plant into consideration.\n",
    "Let the number of barrels used by factory $B$, $C$ and $D$ are $y$, $z$ and $w$ respectively.\n",
    "\n",
    "Then for demand (5000, 8500, 10000) the system of linear equations will be\n",
    "\n",
    "$$4y + 4z + 4w = 5000$$\n",
    "\n",
    "$$14y + 5z + 5w = 8500$$\n",
    "\n",
    "$$5y + 12z + 12w = 10000$$\n",
    "\n",
    "Solve it using rref form."
   ]
  },
  {
   "cell_type": "code",
   "execution_count": 24,
   "id": "9c938b38",
   "metadata": {},
   "outputs": [
    {
     "data": {
      "text/plain": [
       "(Matrix([\n",
       " [1, 0, 0, 0],\n",
       " [0, 1, 1, 0],\n",
       " [0, 0, 0, 1]]),\n",
       " (0, 1, 3))"
      ]
     },
     "execution_count": 24,
     "metadata": {},
     "output_type": "execute_result"
    }
   ],
   "source": [
    "import sympy as sy\n",
    "A_aug = sy.Matrix([[4, 4, 4, 5000], \n",
    "                   [14, 5, 5, 8500], \n",
    "                   [5, 12, 12, 10000]])\n",
    "A_aug.rref()"
   ]
  },
  {
   "cell_type": "markdown",
   "id": "1b45cc9a",
   "metadata": {},
   "source": [
    "From above it can be seen that the above system of equation has no exact solution.\n",
    "\n",
    "Now, changing demand to (6600, 5100, 3100) and solving the system of equation using rref form.\n",
    "\n"
   ]
  },
  {
   "cell_type": "code",
   "execution_count": 25,
   "id": "ac90b52e",
   "metadata": {},
   "outputs": [
    {
     "data": {
      "text/plain": [
       "(Matrix([\n",
       " [1, 0, 0, 0],\n",
       " [0, 1, 1, 0],\n",
       " [0, 0, 0, 1]]),\n",
       " (0, 1, 3))"
      ]
     },
     "execution_count": 25,
     "metadata": {},
     "output_type": "execute_result"
    }
   ],
   "source": [
    "import sympy as sy\n",
    "A_aug = sy.Matrix([[4, 4, 4, 6600], \n",
    "                   [14, 5, 5, 5100], \n",
    "                   [5, 12, 12, 3100]])\n",
    "A_aug.rref()"
   ]
  },
  {
   "cell_type": "markdown",
   "id": "e97fcf0c",
   "metadata": {},
   "source": [
    "Therefore, irrespective of the demand the system has no exact solution"
   ]
  },
  {
   "cell_type": "markdown",
   "id": "c80a26a5",
   "metadata": {},
   "source": [
    "# Set rates for Products"
   ]
  },
  {
   "cell_type": "markdown",
   "id": "c257aa42",
   "metadata": {},
   "source": [
    "Company wants to set the rates of motor oil, diesel oil, and gasoline. For this purpose they have few suggestions given as follows:\n",
    "\n",
    "100, 66, 102 Rupees per gallon,\n",
    "\n",
    "104, 64, 100 Rupees per gallon,\n",
    "\n",
    "102, 68, 98 Rupees per gallon, and\n",
    "\n",
    "96, 68, 100 Rupees per gallon\n",
    "\n",
    "for motor oil, diesel oil, and gasoline respectively.\n",
    "\n",
    "Using matrix multiplication, find the rates which results in maximum total price."
   ]
  },
  {
   "cell_type": "markdown",
   "id": "df02fc6c",
   "metadata": {},
   "source": [
    "Let $M$ denotes the matrix such that rows represents different plants (A, B and C), columns represents different products (motor oil, diesel oil and gasoline) and each value represents production of that product from one barrel of crude oil for that plant.\n",
    "\n",
    "$$M = \\begin{bmatrix}\n",
    "20 & 10 & 5 \\\\ \n",
    "4 & 14 & 5  \\\\ \n",
    " 4 & 5 & 12 \\end{bmatrix}$$\n",
    "\n",
    "Also, $R$ is a matrix having different rates as its columns.\n",
    "\n",
    "$$R = \\begin{bmatrix}\n",
    "100 & 104 & 102 & 96 \\\\ \n",
    "66 & 64 & 68 & 68  \\\\ \n",
    "102 & 100 & 98 & 100 \\end{bmatrix}$$"
   ]
  },
  {
   "cell_type": "code",
   "execution_count": 26,
   "id": "f11196a4",
   "metadata": {},
   "outputs": [
    {
     "data": {
      "text/plain": [
       "array([[3170, 3220, 3210, 3120],\n",
       "       [1834, 1812, 1850, 1864],\n",
       "       [1954, 1936, 1924, 1934]])"
      ]
     },
     "execution_count": 26,
     "metadata": {},
     "output_type": "execute_result"
    }
   ],
   "source": [
    "# Matrix multiplication\n",
    "M = np.array([[20, 10, 5], \n",
    "              [4, 14, 5], \n",
    "              [4, 5, 12]])\n",
    "\n",
    "R = np.array([[100, 104, 102, 96], \n",
    "              [66, 64, 68, 70], \n",
    "              [102, 100, 98, 100]])\n",
    "\n",
    "M @ R"
   ]
  },
  {
   "cell_type": "markdown",
   "id": "0e14a781",
   "metadata": {},
   "source": [
    "The resultant matrix contains total prices for each plant, taking different rates into consideration.\n",
    "\n",
    "In order to get the total price we need to sum up the prices for each plant and take those rates for which the total price is maximum."
   ]
  },
  {
   "cell_type": "code",
   "execution_count": 27,
   "id": "b19d9839",
   "metadata": {},
   "outputs": [
    {
     "name": "stdout",
     "output_type": "stream",
     "text": [
      "Price:  [6958 6968 6984 6918]\n",
      "Desired rate:  [102  68  98]\n"
     ]
    }
   ],
   "source": [
    "# Total price for each rate\n",
    "total_price = sum(M @ R)\n",
    "print(\"Price: \", total_price)\n",
    "\n",
    "# Get index of highest value in array\n",
    "index = np.argmax(total_price)\n",
    "\n",
    "# Extract desired rates\n",
    "rate = R[:,index]\n",
    "print(\"Desired rate: \", rate)"
   ]
  },
  {
   "cell_type": "markdown",
   "id": "093cba7d",
   "metadata": {},
   "source": [
    "Hence, the desired rates are 102, 68, 98 Rupees per gallon for motor oil, diesel oil, and gasoline respectively"
   ]
  },
  {
   "cell_type": "markdown",
   "id": "f1574058",
   "metadata": {},
   "source": [
    "# Marginal Cost"
   ]
  },
  {
   "cell_type": "markdown",
   "id": "3080a080",
   "metadata": {},
   "source": [
    "The total cost $C(x)$ in Rupees, associated with the production of $x$ gallons of gasoline is given by \n",
    "\n",
    "$$C(x) = 0.005 x^3 – 0.02 x^2 + 30x + 5000$$\n",
    "\n",
    "Find the marginal cost when $22$ gallons are produced, where by marginal cost we\n",
    "mean the instantaneous rate of change of total cost at any level of output."
   ]
  },
  {
   "cell_type": "markdown",
   "id": "35216c41",
   "metadata": {},
   "source": [
    "Solution: Since marginal cost is the rate of change of total cost with respect to the output, we have\n",
    "\n",
    "Marginal cost (MC) given by,\n",
    "\n",
    "dCdx=0.005(3x2)−0.02(2x)+30 \n",
    "\n",
    "When  x=22 ,\n",
    "MC=0.015(222)−0.04(22)+30 \n",
    "\n",
    "=7.26–0.88+30=36.38 \n",
    "\n",
    "Hence, the required marginal cost is around 36.38 Rupees."
   ]
  },
  {
   "cell_type": "code",
   "execution_count": 28,
   "id": "a85b1c3f",
   "metadata": {},
   "outputs": [
    {
     "data": {
      "text/plain": [
       "36.38500000000022"
      ]
     },
     "execution_count": 28,
     "metadata": {},
     "output_type": "execute_result"
    }
   ],
   "source": [
    "from scipy.misc import derivative\n",
    "\n",
    "f = lambda x: 0.005 * x**3 - 0.02 * x**2 + 30 * x + 5000\n",
    "x = 22\n",
    "derivative(f, x)"
   ]
  },
  {
   "cell_type": "markdown",
   "id": "f0caa4ac",
   "metadata": {},
   "source": [
    "# Marginal Revenue"
   ]
  },
  {
   "cell_type": "markdown",
   "id": "9b763735",
   "metadata": {},
   "source": [
    "The total revenue in Rupees received from the sale of  x  gallons of a motor oil is given by\n",
    "\n",
    "R(x)=3x2+36x+5. \n",
    "\n",
    "Find the marginal revenue, when  x=28 , where by marginal revenue we mean the rate of change of total revenue with respect to the number of items sold at an instant."
   ]
  },
  {
   "cell_type": "markdown",
   "id": "a44506ae",
   "metadata": {},
   "source": [
    "**Solution:** Since marginal revenue is the rate of change of total revenue with respect to the number of units sold, we have \n",
    "\n",
    "Marginal Revenue (MR) given by,\n",
    "\n",
    "$$\\frac{dR}{dx} = 6x + 36$$\n",
    "\n",
    "When $x = 28$, \n",
    "\n",
    "$$MR = 6(28) + 36 = 204$$\n",
    "\n",
    "Hence, the required marginal revenue is 204 Rupees."
   ]
  },
  {
   "cell_type": "code",
   "execution_count": 29,
   "id": "8c32a07a",
   "metadata": {},
   "outputs": [
    {
     "data": {
      "text/plain": [
       "204.0"
      ]
     },
     "execution_count": 29,
     "metadata": {},
     "output_type": "execute_result"
    }
   ],
   "source": [
    "from scipy.misc import derivative\n",
    "\n",
    "f = lambda x: 3 * x**2 + 36 * x + 5\n",
    "x = 28\n",
    "derivative(f,x)"
   ]
  },
  {
   "cell_type": "markdown",
   "id": "36e19574",
   "metadata": {},
   "source": [
    "# Pour crude oil in tank"
   ]
  },
  {
   "cell_type": "markdown",
   "id": "d1eb27fc",
   "metadata": {},
   "source": [
    "In a cylindrical tank of radius 10 meter, crude oil is being poured at the rate of 314 cubic meter per hour. Then find\n",
    "\n",
    "the rate at which the height of the tank is increasing, and\n",
    "the height of crude oil in tank after 2 hours."
   ]
  },
  {
   "cell_type": "markdown",
   "id": "26aff850",
   "metadata": {},
   "source": [
    "**Solution:** Let $m$ be the rate at which the height of the tank is increasing.\n",
    "\n",
    "Then the height of crude oil in cylinder, increasing with time t, is given by \n",
    "\n",
    "$$h = m \\times t$$\n",
    "\n",
    "And volume of crude oil inside cylinder is given by,\n",
    "\n",
    "$$V = \\pi r^2 h$$\n",
    "\n",
    "Then, rate of change of volume is given by, \n",
    "\n",
    "$$\\frac{dV}{dt} = \\pi r^2 m$$"
   ]
  },
  {
   "cell_type": "code",
   "execution_count": 30,
   "id": "b6d888a9",
   "metadata": {},
   "outputs": [
    {
     "data": {
      "text/latex": [
       "$\\displaystyle 314.159265358979 m$"
      ],
      "text/plain": [
       "314.159265358979*m"
      ]
     },
     "execution_count": 30,
     "metadata": {},
     "output_type": "execute_result"
    }
   ],
   "source": [
    "import numpy as np\n",
    "import sympy as sym\n",
    "\n",
    "# radius\n",
    "r = 10\n",
    "# time symbol\n",
    "t = sym.Symbol('t')\n",
    "# height rate symbol\n",
    "m = sym.Symbol('m')\n",
    "# height of tank\n",
    "h = m * t\n",
    "# volume of tank\n",
    "v = np.pi * r**2 * h\n",
    "\n",
    "# derivative(v,t)\n",
    "sym.Derivative(v, t).doit()"
   ]
  },
  {
   "cell_type": "code",
   "execution_count": 31,
   "id": "e0e40bf9",
   "metadata": {},
   "outputs": [
    {
     "name": "stdout",
     "output_type": "stream",
     "text": [
      "Rate at which height of tank is increasing:  [[0.99949071]]\n"
     ]
    }
   ],
   "source": [
    "# Given volume flow rate = 314 cubic meter/hr, solve for m\n",
    "m = solve([[314.16]], [[314]])\n",
    "print(\"Rate at which height of tank is increasing: \", m)"
   ]
  },
  {
   "cell_type": "markdown",
   "id": "9200b20e",
   "metadata": {},
   "source": [
    "Therefore, the rate at which the height of the tank is increasing is  1meter/hour .\n",
    "\n",
    "Now, let's calculate the height after two hours:"
   ]
  },
  {
   "cell_type": "code",
   "execution_count": 32,
   "id": "a21db924",
   "metadata": {},
   "outputs": [
    {
     "name": "stdout",
     "output_type": "stream",
     "text": [
      "Height of crude oil in tank after 2 hours:  [[1.99898141]]\n"
     ]
    }
   ],
   "source": [
    "t = 2\n",
    "h_2 = m * t\n",
    "print(\"Height of crude oil in tank after 2 hours: \", h_2)"
   ]
  }
 ],
 "metadata": {
  "kernelspec": {
   "display_name": "Python 3 (ipykernel)",
   "language": "python",
   "name": "python3"
  },
  "language_info": {
   "codemirror_mode": {
    "name": "ipython",
    "version": 3
   },
   "file_extension": ".py",
   "mimetype": "text/x-python",
   "name": "python",
   "nbconvert_exporter": "python",
   "pygments_lexer": "ipython3",
   "version": "3.9.13"
  }
 },
 "nbformat": 4,
 "nbformat_minor": 5
}
